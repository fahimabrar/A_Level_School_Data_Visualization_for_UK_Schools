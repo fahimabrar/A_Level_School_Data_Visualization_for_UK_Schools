{
  "nbformat": 4,
  "nbformat_minor": 0,
  "metadata": {
    "kernelspec": {
      "display_name": "Python 3",
      "language": "python",
      "name": "python3"
    },
    "language_info": {
      "codemirror_mode": {
        "name": "ipython",
        "version": 3
      },
      "file_extension": ".py",
      "mimetype": "text/x-python",
      "name": "python",
      "nbconvert_exporter": "python",
      "pygments_lexer": "ipython3",
      "version": "3.8.3"
    },
    "colab": {
      "name": "sch_info_Ofsted_v2_with_lat_lon.ipynb",
      "provenance": []
    }
  },
  "cells": [
    {
      "cell_type": "code",
      "metadata": {
        "id": "siIvUc7R9owc",
        "outputId": "f83aca38-9730-405b-8b34-2800e53d9f9b"
      },
      "source": [
        "data = pd.read_csv(\"sch_info_Ofsted_v2.csv\", encoding='latin1')\n",
        "df = pd.DataFrame(data)"
      ],
      "execution_count": null,
      "outputs": [
        {
          "output_type": "stream",
          "text": [
            "C:\\Users\\Asus\\anaconda3\\lib\\site-packages\\IPython\\core\\interactiveshell.py:3071: DtypeWarning: Columns (10,33) have mixed types.Specify dtype option on import or set low_memory=False.\n",
            "  has_raised = await self.run_ast_nodes(code_ast.body, cell_name,\n"
          ],
          "name": "stderr"
        }
      ]
    },
    {
      "cell_type": "code",
      "metadata": {
        "id": "rwXiefu69owU"
      },
      "source": [
        "import pandas as pd"
      ],
      "execution_count": null,
      "outputs": []
    },
    {
      "cell_type": "code",
      "metadata": {
        "id": "zLTRLeva9owd",
        "outputId": "c730ee08-de10-4547-e822-5c24e874c6bc"
      },
      "source": [
        "df.head()"
      ],
      "execution_count": null,
      "outputs": [
        {
          "output_type": "execute_result",
          "data": {
            "text/html": [
              "<div>\n",
              "<style scoped>\n",
              "    .dataframe tbody tr th:only-of-type {\n",
              "        vertical-align: middle;\n",
              "    }\n",
              "\n",
              "    .dataframe tbody tr th {\n",
              "        vertical-align: top;\n",
              "    }\n",
              "\n",
              "    .dataframe thead th {\n",
              "        text-align: right;\n",
              "    }\n",
              "</style>\n",
              "<table border=\"1\" class=\"dataframe\">\n",
              "  <thead>\n",
              "    <tr style=\"text-align: right;\">\n",
              "      <th></th>\n",
              "      <th>LA</th>\n",
              "      <th>LAESTAB</th>\n",
              "      <th>ADMPOL</th>\n",
              "      <th>AGEH</th>\n",
              "      <th>AGEL</th>\n",
              "      <th>CLOSEDATE</th>\n",
              "      <th>EDUCATIONSUPPORTSTAFF</th>\n",
              "      <th>ESTAB.x</th>\n",
              "      <th>GENDER</th>\n",
              "      <th>GRANTFUNDING</th>\n",
              "      <th>...</th>\n",
              "      <th>SUPPLYTEACHERS</th>\n",
              "      <th>TEACHINGSTAFF</th>\n",
              "      <th>TOTALEXPENDITURE</th>\n",
              "      <th>TOWN</th>\n",
              "      <th>URN</th>\n",
              "      <th>YEAR</th>\n",
              "      <th>LANAME</th>\n",
              "      <th>REGION</th>\n",
              "      <th>REGION.NAME</th>\n",
              "      <th>SCHSTATUS</th>\n",
              "    </tr>\n",
              "  </thead>\n",
              "  <tbody>\n",
              "    <tr>\n",
              "      <th>0</th>\n",
              "      <td>201</td>\n",
              "      <td>2013614</td>\n",
              "      <td>Not recorded</td>\n",
              "      <td>11.0</td>\n",
              "      <td>3.0</td>\n",
              "      <td>NaN</td>\n",
              "      <td>1,687</td>\n",
              "      <td>3614</td>\n",
              "      <td>Mixed</td>\n",
              "      <td>7,400</td>\n",
              "      <td>...</td>\n",
              "      <td>65</td>\n",
              "      <td>3,509</td>\n",
              "      <td>8,022</td>\n",
              "      <td>London</td>\n",
              "      <td>100000.0</td>\n",
              "      <td>2018</td>\n",
              "      <td>City of London</td>\n",
              "      <td>32.0</td>\n",
              "      <td>London East</td>\n",
              "      <td>Open</td>\n",
              "    </tr>\n",
              "    <tr>\n",
              "      <th>1</th>\n",
              "      <td>201</td>\n",
              "      <td>2013614</td>\n",
              "      <td>Not applicable</td>\n",
              "      <td>11.0</td>\n",
              "      <td>3.0</td>\n",
              "      <td>NaN</td>\n",
              "      <td>1,699</td>\n",
              "      <td>3614</td>\n",
              "      <td>Mixed</td>\n",
              "      <td>8,343</td>\n",
              "      <td>...</td>\n",
              "      <td>131</td>\n",
              "      <td>3,620</td>\n",
              "      <td>8,633</td>\n",
              "      <td>London</td>\n",
              "      <td>100000.0</td>\n",
              "      <td>2019</td>\n",
              "      <td>City of London</td>\n",
              "      <td>32.0</td>\n",
              "      <td>London East</td>\n",
              "      <td>Open</td>\n",
              "    </tr>\n",
              "    <tr>\n",
              "      <th>2</th>\n",
              "      <td>201</td>\n",
              "      <td>2013614</td>\n",
              "      <td>Unknown</td>\n",
              "      <td>11.0</td>\n",
              "      <td>3.0</td>\n",
              "      <td>NaN</td>\n",
              "      <td>1,214</td>\n",
              "      <td>3614</td>\n",
              "      <td>Mixed</td>\n",
              "      <td>8,561</td>\n",
              "      <td>...</td>\n",
              "      <td>371</td>\n",
              "      <td>3,890</td>\n",
              "      <td>8,288</td>\n",
              "      <td>London</td>\n",
              "      <td>100000.0</td>\n",
              "      <td>2016</td>\n",
              "      <td>City of London</td>\n",
              "      <td>32.0</td>\n",
              "      <td>London East</td>\n",
              "      <td>Open</td>\n",
              "    </tr>\n",
              "    <tr>\n",
              "      <th>3</th>\n",
              "      <td>201</td>\n",
              "      <td>2013614</td>\n",
              "      <td>Unknown</td>\n",
              "      <td>11.0</td>\n",
              "      <td>3.0</td>\n",
              "      <td>NaN</td>\n",
              "      <td>1,315</td>\n",
              "      <td>3614</td>\n",
              "      <td>Mixed</td>\n",
              "      <td>7,772</td>\n",
              "      <td>...</td>\n",
              "      <td>135</td>\n",
              "      <td>3,418</td>\n",
              "      <td>8,319</td>\n",
              "      <td>London</td>\n",
              "      <td>100000.0</td>\n",
              "      <td>2017</td>\n",
              "      <td>City of London</td>\n",
              "      <td>32.0</td>\n",
              "      <td>London East</td>\n",
              "      <td>Open</td>\n",
              "    </tr>\n",
              "    <tr>\n",
              "      <th>4</th>\n",
              "      <td>201</td>\n",
              "      <td>2013614</td>\n",
              "      <td>Not applicable</td>\n",
              "      <td>11.0</td>\n",
              "      <td>3.0</td>\n",
              "      <td>NaN</td>\n",
              "      <td>374</td>\n",
              "      <td>3614</td>\n",
              "      <td>Mixed</td>\n",
              "      <td>9045</td>\n",
              "      <td>...</td>\n",
              "      <td>326</td>\n",
              "      <td>5368</td>\n",
              "      <td>9106</td>\n",
              "      <td>London</td>\n",
              "      <td>100000.0</td>\n",
              "      <td>2013</td>\n",
              "      <td>City of London</td>\n",
              "      <td>32.0</td>\n",
              "      <td>London East</td>\n",
              "      <td>Open</td>\n",
              "    </tr>\n",
              "  </tbody>\n",
              "</table>\n",
              "<p>5 rows × 43 columns</p>\n",
              "</div>"
            ],
            "text/plain": [
              "    LA  LAESTAB          ADMPOL  AGEH  AGEL CLOSEDATE EDUCATIONSUPPORTSTAFF  \\\n",
              "0  201  2013614    Not recorded  11.0   3.0       NaN                 1,687   \n",
              "1  201  2013614  Not applicable  11.0   3.0       NaN                 1,699   \n",
              "2  201  2013614         Unknown  11.0   3.0       NaN                 1,214   \n",
              "3  201  2013614         Unknown  11.0   3.0       NaN                 1,315   \n",
              "4  201  2013614  Not applicable  11.0   3.0       NaN                   374   \n",
              "\n",
              "   ESTAB.x GENDER GRANTFUNDING  ... SUPPLYTEACHERS TEACHINGSTAFF  \\\n",
              "0     3614  Mixed        7,400  ...             65         3,509   \n",
              "1     3614  Mixed        8,343  ...            131         3,620   \n",
              "2     3614  Mixed        8,561  ...            371         3,890   \n",
              "3     3614  Mixed        7,772  ...            135         3,418   \n",
              "4     3614  Mixed         9045  ...            326          5368   \n",
              "\n",
              "  TOTALEXPENDITURE    TOWN       URN  YEAR          LANAME REGION  \\\n",
              "0            8,022  London  100000.0  2018  City of London   32.0   \n",
              "1            8,633  London  100000.0  2019  City of London   32.0   \n",
              "2            8,288  London  100000.0  2016  City of London   32.0   \n",
              "3            8,319  London  100000.0  2017  City of London   32.0   \n",
              "4             9106  London  100000.0  2013  City of London   32.0   \n",
              "\n",
              "   REGION.NAME  SCHSTATUS  \n",
              "0  London East       Open  \n",
              "1  London East       Open  \n",
              "2  London East       Open  \n",
              "3  London East       Open  \n",
              "4  London East       Open  \n",
              "\n",
              "[5 rows x 43 columns]"
            ]
          },
          "metadata": {
            "tags": []
          },
          "execution_count": 3
        }
      ]
    },
    {
      "cell_type": "code",
      "metadata": {
        "id": "QneGbtmN9owe"
      },
      "source": [
        "pcode= pd.DataFrame(pd.read_csv(\"ukpostcodes.csv\"))"
      ],
      "execution_count": null,
      "outputs": []
    },
    {
      "cell_type": "code",
      "metadata": {
        "id": "XluOD6wU9owe",
        "outputId": "9eef784a-ccd7-4165-c0b3-b7a59e95f270"
      },
      "source": [
        "pcode = pcode[['POSTCODE', 'latitude', 'longitude']]\n",
        "pcode.head()"
      ],
      "execution_count": null,
      "outputs": [
        {
          "output_type": "execute_result",
          "data": {
            "text/html": [
              "<div>\n",
              "<style scoped>\n",
              "    .dataframe tbody tr th:only-of-type {\n",
              "        vertical-align: middle;\n",
              "    }\n",
              "\n",
              "    .dataframe tbody tr th {\n",
              "        vertical-align: top;\n",
              "    }\n",
              "\n",
              "    .dataframe thead th {\n",
              "        text-align: right;\n",
              "    }\n",
              "</style>\n",
              "<table border=\"1\" class=\"dataframe\">\n",
              "  <thead>\n",
              "    <tr style=\"text-align: right;\">\n",
              "      <th></th>\n",
              "      <th>POSTCODE</th>\n",
              "      <th>latitude</th>\n",
              "      <th>longitude</th>\n",
              "    </tr>\n",
              "  </thead>\n",
              "  <tbody>\n",
              "    <tr>\n",
              "      <th>0</th>\n",
              "      <td>AB10 1XG</td>\n",
              "      <td>57.144165</td>\n",
              "      <td>-2.114848</td>\n",
              "    </tr>\n",
              "    <tr>\n",
              "      <th>1</th>\n",
              "      <td>AB10 6RN</td>\n",
              "      <td>57.137880</td>\n",
              "      <td>-2.121487</td>\n",
              "    </tr>\n",
              "    <tr>\n",
              "      <th>2</th>\n",
              "      <td>AB10 7JB</td>\n",
              "      <td>57.124274</td>\n",
              "      <td>-2.127190</td>\n",
              "    </tr>\n",
              "    <tr>\n",
              "      <th>3</th>\n",
              "      <td>AB11 5QN</td>\n",
              "      <td>57.142701</td>\n",
              "      <td>-2.093295</td>\n",
              "    </tr>\n",
              "    <tr>\n",
              "      <th>4</th>\n",
              "      <td>AB11 6UL</td>\n",
              "      <td>57.137547</td>\n",
              "      <td>-2.112233</td>\n",
              "    </tr>\n",
              "  </tbody>\n",
              "</table>\n",
              "</div>"
            ],
            "text/plain": [
              "   POSTCODE   latitude  longitude\n",
              "0  AB10 1XG  57.144165  -2.114848\n",
              "1  AB10 6RN  57.137880  -2.121487\n",
              "2  AB10 7JB  57.124274  -2.127190\n",
              "3  AB11 5QN  57.142701  -2.093295\n",
              "4  AB11 6UL  57.137547  -2.112233"
            ]
          },
          "metadata": {
            "tags": []
          },
          "execution_count": 15
        }
      ]
    },
    {
      "cell_type": "code",
      "metadata": {
        "id": "kmXA0ckK9owf"
      },
      "source": [
        "df = df.merge(pcode, on='POSTCODE', how='left')\n",
        "#joinig school data with postcode data on POSTCODE column"
      ],
      "execution_count": null,
      "outputs": []
    },
    {
      "cell_type": "code",
      "metadata": {
        "id": "ptIYTmKw9owf"
      },
      "source": [
        "df.to_csv(\"sch_info_Ofsted_v2.latlon.csv\", index = False)"
      ],
      "execution_count": null,
      "outputs": []
    }
  ]
}